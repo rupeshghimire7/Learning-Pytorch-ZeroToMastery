{
 "cells": [
  {
   "cell_type": "code",
   "execution_count": 1,
   "id": "192e4ff6",
   "metadata": {},
   "outputs": [
    {
     "data": {
      "text/plain": [
       "'2.0.1+cu117'"
      ]
     },
     "execution_count": 1,
     "metadata": {},
     "output_type": "execute_result"
    }
   ],
   "source": [
    "import torch\n",
    "torch.__version__"
   ]
  },
  {
   "cell_type": "markdown",
   "id": "aae2b013",
   "metadata": {},
   "source": [
    "### Let's see about tensors\n",
    "\n",
    "you could represent an image as a tensor with shape [3, 224, 224] which would mean [colour_channels, height, width], as in the image has 3 colour channels (red, green, blue), a height of 224 pixels and a width of 224 pixels."
   ]
  },
  {
   "cell_type": "code",
   "execution_count": 2,
   "id": "0a067bd8",
   "metadata": {},
   "outputs": [],
   "source": [
    "ten7 = torch.rand(size=(7,7))"
   ]
  },
  {
   "cell_type": "code",
   "execution_count": 3,
   "id": "d6670b4f",
   "metadata": {},
   "outputs": [
    {
     "data": {
      "text/plain": [
       "tensor([[0.1751, 0.7958, 0.4967, 0.3387, 0.6212, 0.3261, 0.1317],\n",
       "        [0.6164, 0.8033, 0.1116, 0.4466, 0.9183, 0.0282, 0.6196],\n",
       "        [0.9910, 0.9088, 0.1670, 0.8654, 0.1193, 0.8601, 0.6191],\n",
       "        [0.9415, 0.7800, 0.4417, 0.4993, 0.3351, 0.8358, 0.1530],\n",
       "        [0.4473, 0.0249, 0.3011, 0.3970, 0.3143, 0.1001, 0.9147],\n",
       "        [0.6435, 0.3382, 0.6654, 0.5950, 0.3431, 0.5528, 0.2702],\n",
       "        [0.0631, 0.0416, 0.0033, 0.8656, 0.6418, 0.0845, 0.8123]])"
      ]
     },
     "execution_count": 3,
     "metadata": {},
     "output_type": "execute_result"
    }
   ],
   "source": [
    "ten7\n"
   ]
  },
  {
   "cell_type": "code",
   "execution_count": 4,
   "id": "f9e08c9e",
   "metadata": {},
   "outputs": [
    {
     "data": {
      "text/plain": [
       "torch.Size([7, 7])"
      ]
     },
     "execution_count": 4,
     "metadata": {},
     "output_type": "execute_result"
    }
   ],
   "source": [
    "ten7.shape\n"
   ]
  },
  {
   "cell_type": "code",
   "execution_count": 5,
   "id": "718ea3db",
   "metadata": {},
   "outputs": [],
   "source": [
    "ten2 = torch.rand(size=(1,7))\n"
   ]
  },
  {
   "cell_type": "code",
   "execution_count": 6,
   "id": "8901a9d6",
   "metadata": {},
   "outputs": [],
   "source": [
    "mul = ten7 @ ten2.T"
   ]
  },
  {
   "cell_type": "code",
   "execution_count": 7,
   "id": "2ed7ccb5",
   "metadata": {},
   "outputs": [
    {
     "data": {
      "text/plain": [
       "tensor([[1.1892],\n",
       "        [0.9430],\n",
       "        [1.8683],\n",
       "        [1.6662],\n",
       "        [1.0388],\n",
       "        [1.5015],\n",
       "        [0.8059]])"
      ]
     },
     "execution_count": 7,
     "metadata": {},
     "output_type": "execute_result"
    }
   ],
   "source": [
    "mul"
   ]
  },
  {
   "cell_type": "code",
   "execution_count": 9,
   "id": "4153bb2a",
   "metadata": {},
   "outputs": [
    {
     "data": {
      "text/plain": [
       "<torch._C.Generator at 0x7f7d5fb69cb0>"
      ]
     },
     "execution_count": 9,
     "metadata": {},
     "output_type": "execute_result"
    }
   ],
   "source": [
    "torch.random.manual_seed(seed=0)"
   ]
  },
  {
   "cell_type": "code",
   "execution_count": 10,
   "id": "96e25202",
   "metadata": {},
   "outputs": [
    {
     "data": {
      "text/plain": [
       "tensor([[1.8542],\n",
       "        [1.9611],\n",
       "        [2.2884],\n",
       "        [3.0481],\n",
       "        [1.7067],\n",
       "        [2.5290],\n",
       "        [1.7989]])"
      ]
     },
     "execution_count": 10,
     "metadata": {},
     "output_type": "execute_result"
    }
   ],
   "source": [
    "ten7 = torch.rand(size=(7,7))\n",
    "ten2 = torch.rand(size=(1,7))\n",
    "mul = ten7 @ ten2.T\n",
    "mul"
   ]
  },
  {
   "cell_type": "code",
   "execution_count": 11,
   "id": "af17ff19",
   "metadata": {},
   "outputs": [
    {
     "data": {
      "text/plain": [
       "True"
      ]
     },
     "execution_count": 11,
     "metadata": {},
     "output_type": "execute_result"
    }
   ],
   "source": [
    "torch.cuda.is_available()\n"
   ]
  },
  {
   "cell_type": "code",
   "execution_count": 15,
   "id": "38d270bb",
   "metadata": {},
   "outputs": [
    {
     "data": {
      "text/plain": [
       "0"
      ]
     },
     "execution_count": 15,
     "metadata": {},
     "output_type": "execute_result"
    }
   ],
   "source": [
    "torch.cuda.current_device()\n"
   ]
  },
  {
   "cell_type": "code",
   "execution_count": 16,
   "id": "74c10442",
   "metadata": {},
   "outputs": [
    {
     "data": {
      "text/plain": [
       "1"
      ]
     },
     "execution_count": 16,
     "metadata": {},
     "output_type": "execute_result"
    }
   ],
   "source": [
    "torch.cuda.device_count()"
   ]
  },
  {
   "cell_type": "code",
   "execution_count": 17,
   "id": "9dd1f60a",
   "metadata": {},
   "outputs": [
    {
     "data": {
      "text/plain": [
       "'NVIDIA GeForce MX110'"
      ]
     },
     "execution_count": 17,
     "metadata": {},
     "output_type": "execute_result"
    }
   ],
   "source": [
    "torch.cuda.get_device_name(0)"
   ]
  },
  {
   "cell_type": "code",
   "execution_count": 18,
   "id": "c75d1543",
   "metadata": {},
   "outputs": [],
   "source": [
    "device = torch.device('cuda')"
   ]
  },
  {
   "cell_type": "code",
   "execution_count": 19,
   "id": "c1536df3",
   "metadata": {},
   "outputs": [
    {
     "data": {
      "text/plain": [
       "device(type='cuda')"
      ]
     },
     "execution_count": 19,
     "metadata": {},
     "output_type": "execute_result"
    }
   ],
   "source": [
    "device"
   ]
  },
  {
   "cell_type": "code",
   "execution_count": 20,
   "id": "8b7996d4",
   "metadata": {},
   "outputs": [
    {
     "data": {
      "text/plain": [
       "<torch._C.Generator at 0x7f7d5fb69cb0>"
      ]
     },
     "execution_count": 20,
     "metadata": {},
     "output_type": "execute_result"
    }
   ],
   "source": [
    "torch.random.manual_seed(seed=1234)"
   ]
  },
  {
   "cell_type": "code",
   "execution_count": 21,
   "id": "5c89c705",
   "metadata": {},
   "outputs": [],
   "source": [
    "torch.cuda.seed?"
   ]
  },
  {
   "cell_type": "code",
   "execution_count": 23,
   "id": "554947fa",
   "metadata": {},
   "outputs": [],
   "source": [
    "torch.cuda.random.manual_seed(seed=1234)"
   ]
  },
  {
   "cell_type": "code",
   "execution_count": 30,
   "id": "c330cc55",
   "metadata": {},
   "outputs": [
    {
     "name": "stdout",
     "output_type": "stream",
     "text": [
      "tensor([[0.5274, 0.6325, 0.0910],\n",
      "        [0.2323, 0.7269, 0.1187]], device='cuda:0') \n",
      " tensor([[0.3951, 0.7199, 0.7595],\n",
      "        [0.5311, 0.6449, 0.7224]], device='cuda:0')\n",
      "MUL tensor([[0.7328, 0.7537],\n",
      "        [0.7052, 0.6779]], device='cuda:0')\n"
     ]
    },
    {
     "data": {
      "text/plain": [
       "device(type='cpu')"
      ]
     },
     "execution_count": 30,
     "metadata": {},
     "output_type": "execute_result"
    }
   ],
   "source": [
    "new1 = torch.rand(size=(2,3)).to(device)\n",
    "new2 = torch.rand(size=(2,3)).to(device)\n",
    "print(new1,\"\\n\",new2)\n",
    "new_mul = new1 @ new2.T\n",
    "print(\"MUL\",new_mul)\n",
    "new = torch.rand(size=(2,3))\n",
    "new.device"
   ]
  },
  {
   "cell_type": "code",
   "execution_count": 37,
   "id": "df4c2abe",
   "metadata": {},
   "outputs": [
    {
     "name": "stdout",
     "output_type": "stream",
     "text": [
      "torch.Size([1, 1, 1, 10])\n"
     ]
    },
    {
     "data": {
      "text/plain": [
       "tensor([[[[0.8733, 0.3230, 0.7917, 0.5447, 0.6220, 0.1668, 0.3932, 0.8298,\n",
       "           0.7293, 0.3554]]]])"
      ]
     },
     "execution_count": 37,
     "metadata": {},
     "output_type": "execute_result"
    }
   ],
   "source": [
    "X = torch.rand(size=(1,1,1,10))\n",
    "print(X.shape)\n",
    "X"
   ]
  },
  {
   "cell_type": "code",
   "execution_count": 38,
   "id": "72a16721",
   "metadata": {},
   "outputs": [
    {
     "name": "stdout",
     "output_type": "stream",
     "text": [
      "torch.Size([10])\n"
     ]
    },
    {
     "data": {
      "text/plain": [
       "tensor([0.8733, 0.3230, 0.7917, 0.5447, 0.6220, 0.1668, 0.3932, 0.8298, 0.7293,\n",
       "        0.3554])"
      ]
     },
     "execution_count": 38,
     "metadata": {},
     "output_type": "execute_result"
    }
   ],
   "source": [
    "x = X.squeeze().squeeze()\n",
    "print(x.shape)\n",
    "x"
   ]
  },
  {
   "cell_type": "code",
   "execution_count": null,
   "id": "0cff99d5",
   "metadata": {},
   "outputs": [],
   "source": []
  }
 ],
 "metadata": {
  "kernelspec": {
   "display_name": "Python 3 (ipykernel)",
   "language": "python",
   "name": "python3"
  },
  "language_info": {
   "codemirror_mode": {
    "name": "ipython",
    "version": 3
   },
   "file_extension": ".py",
   "mimetype": "text/x-python",
   "name": "python",
   "nbconvert_exporter": "python",
   "pygments_lexer": "ipython3",
   "version": "3.10.6"
  }
 },
 "nbformat": 4,
 "nbformat_minor": 5
}
